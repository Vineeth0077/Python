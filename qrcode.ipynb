{
  "nbformat": 4,
  "nbformat_minor": 0,
  "metadata": {
    "colab": {
      "provenance": [],
      "authorship_tag": "ABX9TyOQjGRKw0QBp+fzIMNVie/B",
      "include_colab_link": true
    },
    "kernelspec": {
      "name": "python3",
      "display_name": "Python 3"
    },
    "language_info": {
      "name": "python"
    }
  },
  "cells": [
    {
      "cell_type": "markdown",
      "metadata": {
        "id": "view-in-github",
        "colab_type": "text"
      },
      "source": [
        "<a href=\"https://colab.research.google.com/github/Vineeth061/PYTHON/blob/main/qrcode.ipynb\" target=\"_parent\"><img src=\"https://colab.research.google.com/assets/colab-badge.svg\" alt=\"Open In Colab\"/></a>"
      ]
    },
    {
      "cell_type": "code",
      "execution_count": null,
      "metadata": {
        "colab": {
          "base_uri": "https://localhost:8080/"
        },
        "id": "NC7xDsIYUZ0E",
        "outputId": "c130c599-0d57-47f5-b3a2-c02452d0aeb4"
      },
      "outputs": [
        {
          "output_type": "stream",
          "name": "stdout",
          "text": [
            "Looking in indexes: https://pypi.org/simple, https://us-python.pkg.dev/colab-wheels/public/simple/\n",
            "Collecting qrcode\n",
            "  Downloading qrcode-7.3.1.tar.gz (43 kB)\n",
            "\u001b[K     |████████████████████████████████| 43 kB 1.4 MB/s \n",
            "\u001b[?25hBuilding wheels for collected packages: qrcode\n",
            "  Building wheel for qrcode (setup.py) ... \u001b[?25l\u001b[?25hdone\n",
            "  Created wheel for qrcode: filename=qrcode-7.3.1-py3-none-any.whl size=40402 sha256=7bcf5e3deb29a5560ab11e774f2474115f82c828e659b0010194e0e6aec3eb45\n",
            "  Stored in directory: /root/.cache/pip/wheels/93/d7/39/a4111be2cfb8e679938aa671a37888b6afb1f9e7d748e94492\n",
            "Successfully built qrcode\n",
            "Installing collected packages: qrcode\n",
            "Successfully installed qrcode-7.3.1\n"
          ]
        }
      ],
      "source": [
        "pip install qrcode"
      ]
    },
    {
      "cell_type": "code",
      "source": [
        "!pip install pyqrcode"
      ],
      "metadata": {
        "colab": {
          "base_uri": "https://localhost:8080/"
        },
        "id": "SS2y3Kr3XaZI",
        "outputId": "0aa8515b-504b-452f-91a4-3ae1ba9b6c1d"
      },
      "execution_count": null,
      "outputs": [
        {
          "output_type": "stream",
          "name": "stdout",
          "text": [
            "Looking in indexes: https://pypi.org/simple, https://us-python.pkg.dev/colab-wheels/public/simple/\n",
            "Collecting pyqrcode\n",
            "  Downloading PyQRCode-1.2.1.zip (41 kB)\n",
            "\u001b[K     |████████████████████████████████| 41 kB 535 kB/s \n",
            "\u001b[?25hBuilding wheels for collected packages: pyqrcode\n",
            "  Building wheel for pyqrcode (setup.py) ... \u001b[?25l\u001b[?25hdone\n",
            "  Created wheel for pyqrcode: filename=PyQRCode-1.2.1-py3-none-any.whl size=36247 sha256=7a2d27cea08a55a9885fd419eb5c6a90f9064ecbcfb410fa06e074d1963fab4e\n",
            "  Stored in directory: /root/.cache/pip/wheels/aa/14/ad/f09824edf35fdc5fd8acc01b60ff57f858f212a2d5c41dddd2\n",
            "Successfully built pyqrcode\n",
            "Installing collected packages: pyqrcode\n",
            "Successfully installed pyqrcode-1.2.1\n"
          ]
        }
      ]
    },
    {
      "cell_type": "code",
      "source": [
        "pip install pyzbar # decode barcodes from an image. "
      ],
      "metadata": {
        "colab": {
          "base_uri": "https://localhost:8080/"
        },
        "id": "fp-IlWxFV2hz",
        "outputId": "1849d758-0d81-4d4e-dc8d-3b7835c89fd3"
      },
      "execution_count": null,
      "outputs": [
        {
          "output_type": "stream",
          "name": "stdout",
          "text": [
            "Looking in indexes: https://pypi.org/simple, https://us-python.pkg.dev/colab-wheels/public/simple/\n",
            "Collecting pyzbar\n",
            "  Downloading pyzbar-0.1.9-py2.py3-none-any.whl (32 kB)\n",
            "Installing collected packages: pyzbar\n",
            "Successfully installed pyzbar-0.1.9\n"
          ]
        }
      ]
    },
    {
      "cell_type": "code",
      "source": [
        "pip install pillow\n",
        "#contains all the basic image processing functionality.\n",
        "#You can do image resizing, rotation and transformation"
      ],
      "metadata": {
        "colab": {
          "base_uri": "https://localhost:8080/"
        },
        "id": "CLzChoR4WIFp",
        "outputId": "bbda4915-93ac-4d1a-c5ed-62f3a05ac581"
      },
      "execution_count": null,
      "outputs": [
        {
          "output_type": "stream",
          "name": "stdout",
          "text": [
            "Looking in indexes: https://pypi.org/simple, https://us-python.pkg.dev/colab-wheels/public/simple/\n",
            "Requirement already satisfied: pillow in /usr/local/lib/python3.7/dist-packages (7.1.2)\n"
          ]
        }
      ]
    },
    {
      "cell_type": "code",
      "source": [
        "import qrcode\n",
        "\n",
        "myqr = qrcode.make(\"https://www.youtube.com/watch?v=JxUhT11WXUU&ab_channel=MichelHovel\")\n",
        "img=myqr.save(\"qrimg.png\")\n"
      ],
      "metadata": {
        "id": "Qjw3hM7VUi7t"
      },
      "execution_count": null,
      "outputs": []
    },
    {
      "cell_type": "code",
      "source": [
        "import pyqrcode\n",
        "url = \"https://github.com\"\n",
        "qr = pyqrcode.create(url)\n",
        "qr.svg(\"qrcode.svg\",scale=8)\n"
      ],
      "metadata": {
        "id": "ygsTXSF8VSSs"
      },
      "execution_count": null,
      "outputs": []
    },
    {
      "cell_type": "code",
      "source": [],
      "metadata": {
        "id": "j8TjjYLkYeqk"
      },
      "execution_count": null,
      "outputs": []
    }
  ]
}